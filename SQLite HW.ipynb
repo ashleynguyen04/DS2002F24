{
 "cells": [
  {
   "cell_type": "code",
   "execution_count": 1,
   "id": "5066f271",
   "metadata": {},
   "outputs": [],
   "source": [
    "import sqlite3\n",
    "import matplotlib.pyplot as plt\n",
    "import pandas as pd\n",
    "import numpy as np\n",
    "\n",
    "connection = sqlite3.connect('students_grades.db10')"
   ]
  },
  {
   "cell_type": "code",
   "execution_count": 2,
   "id": "8b01068d",
   "metadata": {},
   "outputs": [],
   "source": [
    "cursor = connection.cursor()"
   ]
  },
  {
   "cell_type": "code",
   "execution_count": 3,
   "id": "58f8c2f8",
   "metadata": {},
   "outputs": [
    {
     "data": {
      "text/plain": [
       "<sqlite3.Cursor at 0x139fe46d5c0>"
      ]
     },
     "execution_count": 3,
     "metadata": {},
     "output_type": "execute_result"
    }
   ],
   "source": [
    "cursor.execute('''\n",
    "CREATE TABLE IF NOT EXISTS students (\n",
    "    student_id INTEGER PRIMARY KEY AUTOINCREMENT,\n",
    "    first_name TEXT, \n",
    "    last_name TEXT\n",
    "    )\n",
    "''')"
   ]
  },
  {
   "cell_type": "code",
   "execution_count": 4,
   "id": "32503c38",
   "metadata": {},
   "outputs": [],
   "source": [
    "cursor.execute('''\n",
    "CREATE TABLE IF NOT EXISTS grades (\n",
    "    grade_id INTEGER PRIMARY KEY AUTOINCREMENT,\n",
    "    student_id INTEGER, \n",
    "    subject TEXT,\n",
    "    grade INTEGER,\n",
    "    FOREIGN KEY (student_id) REFERENCES students(student_id)\n",
    "    )\n",
    "''')\n",
    "\n",
    "cursor.close()"
   ]
  },
  {
   "cell_type": "code",
   "execution_count": 5,
   "id": "3ad59f7f",
   "metadata": {},
   "outputs": [],
   "source": [
    "cursor = connection.cursor()\n",
    "\n",
    "students_data = [\n",
    "    (1, 'Alice', 'Johnson'),\n",
    "    (2, 'Bob', 'Smith'),\n",
    "    (3, 'Carol', 'White'),\n",
    "    (4, 'David', 'Brown'),\n",
    "    (5, 'Eve', 'Davis')\n",
    "]\n",
    "\n",
    "cursor.executemany(''' \n",
    "INSERT INTO students (student_id, first_name, last_name) VALUES (?, ?, ?)\n",
    "''', students_data)\n",
    "\n",
    "connection.commit()\n",
    "\n",
    "grades_data = [\n",
    "    (1, 1, 'Math', 95),\n",
    "    (2, 1, 'English', 88),\n",
    "    (3, 1, 'History', 90),\n",
    "    (4, 2, 'Math', 82),\n",
    "    (5, 2, 'English', 76),\n",
    "    (6, 2, 'History', 85),\n",
    "    (7, 3, 'Math', 90),\n",
    "    (8, 3, 'English', 100),\n",
    "    (9, 3, 'History', 95),\n",
    "    (10, 4, 'Math', 85),\n",
    "    (11, 4, 'English', 91),\n",
    "    (12, 4, 'History', 75),\n",
    "    (13, 5, 'Math', 100),\n",
    "    (14, 5, 'English', 80),\n",
    "    (15, 5, 'History', 92),\n",
    "]\n",
    "\n",
    "cursor.executemany(''' \n",
    "INSERT INTO grades (grade_id, student_id, subject, grade) VALUES (?, ?, ?, ?)\n",
    "''', grades_data)\n",
    "\n",
    "connection.commit()"
   ]
  },
  {
   "cell_type": "code",
   "execution_count": 6,
   "id": "34c7f0ef",
   "metadata": {},
   "outputs": [
    {
     "name": "stdout",
     "output_type": "stream",
     "text": [
      "All student's name and grades\n",
      "('Alice', 'Johnson', 95)\n",
      "('Alice', 'Johnson', 88)\n",
      "('Alice', 'Johnson', 90)\n",
      "('Bob', 'Smith', 82)\n",
      "('Bob', 'Smith', 76)\n",
      "('Bob', 'Smith', 85)\n",
      "('Carol', 'White', 90)\n",
      "('Carol', 'White', 100)\n",
      "('Carol', 'White', 95)\n",
      "('David', 'Brown', 85)\n",
      "('David', 'Brown', 91)\n",
      "('David', 'Brown', 75)\n",
      "('Eve', 'Davis', 100)\n",
      "('Eve', 'Davis', 80)\n",
      "('Eve', 'Davis', 92)\n"
     ]
    }
   ],
   "source": [
    "#Retrieve all students' names and their grades\n",
    "\n",
    "cursor.execute('''\n",
    "SELECT students.first_name, students.last_name, grades.grade\n",
    "FROM students\n",
    "JOIN grades ON students.student_id = grades.student_id\n",
    "''')\n",
    "\n",
    "joined_data = cursor.fetchall()\n",
    "\n",
    "print(\"All student's name and grades\")\n",
    "for row in joined_data:\n",
    "    print(row)"
   ]
  },
  {
   "cell_type": "code",
   "execution_count": 7,
   "id": "11c90f72",
   "metadata": {},
   "outputs": [
    {
     "name": "stdout",
     "output_type": "stream",
     "text": [
      "Student's name and average grade\n",
      "('Alice', 'Johnson', 91.0)\n",
      "('Bob', 'Smith', 81.0)\n",
      "('Carol', 'White', 95.0)\n",
      "('David', 'Brown', 83.66666666666667)\n",
      "('Eve', 'Davis', 90.66666666666667)\n"
     ]
    }
   ],
   "source": [
    "#Find the average grade for each student\n",
    "\n",
    "cursor.execute('''\n",
    "SELECT students.first_name, students.last_name, AVG(grades.grade) \n",
    "FROM students \n",
    "JOIN grades ON students.student_id = grades.student_id\n",
    "GROUP BY students.first_name, students.last_name;\n",
    "''')\n",
    "\n",
    "student_avg_grade = cursor.fetchall()\n",
    "\n",
    "print(\"Student's name and average grade\")\n",
    "for row in student_avg_grade:\n",
    "    print(row)"
   ]
  },
  {
   "cell_type": "code",
   "execution_count": 8,
   "id": "4c0692f8",
   "metadata": {},
   "outputs": [
    {
     "name": "stdout",
     "output_type": "stream",
     "text": [
      "Student with highest average grade: Carol\n"
     ]
    }
   ],
   "source": [
    "#Find student with highest average grade\n",
    "\n",
    "cursor.execute('''\n",
    "SELECT students.first_name, students.last_name, AVG(grades.grade) AS average_grade\n",
    "FROM students \n",
    "JOIN grades ON students.student_id = grades.student_id\n",
    "GROUP BY students.first_name, students.last_name\n",
    "ORDER BY average_grade DESC\n",
    "''')\n",
    "\n",
    "highest_avg_grade = cursor.fetchone()\n",
    "\n",
    "print(f\"Student with highest average grade: {highest_avg_grade[0]}\")"
   ]
  },
  {
   "cell_type": "code",
   "execution_count": 9,
   "id": "94c3d54f",
   "metadata": {},
   "outputs": [
    {
     "name": "stdout",
     "output_type": "stream",
     "text": [
      "Average Math Grade: 90.4\n"
     ]
    }
   ],
   "source": [
    "#Find the average grade for the Math subject\n",
    "\n",
    "cursor.execute('''\n",
    "SELECT AVG(grade) FROM grades \n",
    "WHERE subject = 'Math';\n",
    "''')\n",
    "\n",
    "average_math_grade = cursor.fetchone()\n",
    "\n",
    "print(f\"Average Math Grade: {average_math_grade[0]}\")"
   ]
  },
  {
   "cell_type": "code",
   "execution_count": 10,
   "id": "8b42a2a3",
   "metadata": {},
   "outputs": [
    {
     "name": "stdout",
     "output_type": "stream",
     "text": [
      "Students with grades above 90\n",
      "('Alice', 'Johnson')\n",
      "('Carol', 'White')\n",
      "('David', 'Brown')\n",
      "('Eve', 'Davis')\n"
     ]
    }
   ],
   "source": [
    "#List all students who scored above 90 in any subject\n",
    "\n",
    "cursor.execute('''\n",
    "SELECT DISTINCT first_name, last_name FROM students \n",
    "JOIN grades on students.student_id = grades.student_id\n",
    "WHERE grade>90;\n",
    "''')\n",
    "\n",
    "students_above_90 = cursor.fetchall()\n",
    "\n",
    "print(\"Students with grades above 90\")\n",
    "for row in students_above_90:\n",
    "    print(row)"
   ]
  },
  {
   "cell_type": "code",
   "execution_count": 11,
   "id": "50dfc539",
   "metadata": {},
   "outputs": [
    {
     "data": {
      "text/html": [
       "<div>\n",
       "<style scoped>\n",
       "    .dataframe tbody tr th:only-of-type {\n",
       "        vertical-align: middle;\n",
       "    }\n",
       "\n",
       "    .dataframe tbody tr th {\n",
       "        vertical-align: top;\n",
       "    }\n",
       "\n",
       "    .dataframe thead th {\n",
       "        text-align: right;\n",
       "    }\n",
       "</style>\n",
       "<table border=\"1\" class=\"dataframe\">\n",
       "  <thead>\n",
       "    <tr style=\"text-align: right;\">\n",
       "      <th></th>\n",
       "      <th>student_id</th>\n",
       "      <th>first_name</th>\n",
       "      <th>last_name</th>\n",
       "    </tr>\n",
       "  </thead>\n",
       "  <tbody>\n",
       "    <tr>\n",
       "      <th>0</th>\n",
       "      <td>1</td>\n",
       "      <td>Alice</td>\n",
       "      <td>Johnson</td>\n",
       "    </tr>\n",
       "    <tr>\n",
       "      <th>1</th>\n",
       "      <td>2</td>\n",
       "      <td>Bob</td>\n",
       "      <td>Smith</td>\n",
       "    </tr>\n",
       "    <tr>\n",
       "      <th>2</th>\n",
       "      <td>3</td>\n",
       "      <td>Carol</td>\n",
       "      <td>White</td>\n",
       "    </tr>\n",
       "    <tr>\n",
       "      <th>3</th>\n",
       "      <td>4</td>\n",
       "      <td>David</td>\n",
       "      <td>Brown</td>\n",
       "    </tr>\n",
       "    <tr>\n",
       "      <th>4</th>\n",
       "      <td>5</td>\n",
       "      <td>Eve</td>\n",
       "      <td>Davis</td>\n",
       "    </tr>\n",
       "  </tbody>\n",
       "</table>\n",
       "</div>"
      ],
      "text/plain": [
       "   student_id first_name last_name\n",
       "0           1      Alice   Johnson\n",
       "1           2        Bob     Smith\n",
       "2           3      Carol     White\n",
       "3           4      David     Brown\n",
       "4           5        Eve     Davis"
      ]
     },
     "execution_count": 11,
     "metadata": {},
     "output_type": "execute_result"
    }
   ],
   "source": [
    "#load students table into dataframes \n",
    "\n",
    "students_df = pd.read_sql_query('SELECT * FROM students', connection)\n",
    "\n",
    "students_df.head()"
   ]
  },
  {
   "cell_type": "code",
   "execution_count": 12,
   "id": "d0b6e6c8",
   "metadata": {},
   "outputs": [
    {
     "data": {
      "text/html": [
       "<div>\n",
       "<style scoped>\n",
       "    .dataframe tbody tr th:only-of-type {\n",
       "        vertical-align: middle;\n",
       "    }\n",
       "\n",
       "    .dataframe tbody tr th {\n",
       "        vertical-align: top;\n",
       "    }\n",
       "\n",
       "    .dataframe thead th {\n",
       "        text-align: right;\n",
       "    }\n",
       "</style>\n",
       "<table border=\"1\" class=\"dataframe\">\n",
       "  <thead>\n",
       "    <tr style=\"text-align: right;\">\n",
       "      <th></th>\n",
       "      <th>grade_id</th>\n",
       "      <th>student_id</th>\n",
       "      <th>subject</th>\n",
       "      <th>grade</th>\n",
       "    </tr>\n",
       "  </thead>\n",
       "  <tbody>\n",
       "    <tr>\n",
       "      <th>0</th>\n",
       "      <td>1</td>\n",
       "      <td>1</td>\n",
       "      <td>Math</td>\n",
       "      <td>95</td>\n",
       "    </tr>\n",
       "    <tr>\n",
       "      <th>1</th>\n",
       "      <td>2</td>\n",
       "      <td>1</td>\n",
       "      <td>English</td>\n",
       "      <td>88</td>\n",
       "    </tr>\n",
       "    <tr>\n",
       "      <th>2</th>\n",
       "      <td>3</td>\n",
       "      <td>1</td>\n",
       "      <td>History</td>\n",
       "      <td>90</td>\n",
       "    </tr>\n",
       "    <tr>\n",
       "      <th>3</th>\n",
       "      <td>4</td>\n",
       "      <td>2</td>\n",
       "      <td>Math</td>\n",
       "      <td>82</td>\n",
       "    </tr>\n",
       "    <tr>\n",
       "      <th>4</th>\n",
       "      <td>5</td>\n",
       "      <td>2</td>\n",
       "      <td>English</td>\n",
       "      <td>76</td>\n",
       "    </tr>\n",
       "  </tbody>\n",
       "</table>\n",
       "</div>"
      ],
      "text/plain": [
       "   grade_id  student_id  subject  grade\n",
       "0         1           1     Math     95\n",
       "1         2           1  English     88\n",
       "2         3           1  History     90\n",
       "3         4           2     Math     82\n",
       "4         5           2  English     76"
      ]
     },
     "execution_count": 12,
     "metadata": {},
     "output_type": "execute_result"
    }
   ],
   "source": [
    "#load grades table into dataframes \n",
    "\n",
    "grades_df = pd.read_sql_query('SELECT * FROM grades', connection)\n",
    "\n",
    "grades_df.head()"
   ]
  },
  {
   "cell_type": "code",
   "execution_count": 13,
   "id": "923e6298",
   "metadata": {},
   "outputs": [
    {
     "data": {
      "text/html": [
       "<div>\n",
       "<style scoped>\n",
       "    .dataframe tbody tr th:only-of-type {\n",
       "        vertical-align: middle;\n",
       "    }\n",
       "\n",
       "    .dataframe tbody tr th {\n",
       "        vertical-align: top;\n",
       "    }\n",
       "\n",
       "    .dataframe thead th {\n",
       "        text-align: right;\n",
       "    }\n",
       "</style>\n",
       "<table border=\"1\" class=\"dataframe\">\n",
       "  <thead>\n",
       "    <tr style=\"text-align: right;\">\n",
       "      <th></th>\n",
       "      <th>first_name</th>\n",
       "      <th>last_name</th>\n",
       "      <th>subject</th>\n",
       "      <th>grade</th>\n",
       "    </tr>\n",
       "  </thead>\n",
       "  <tbody>\n",
       "    <tr>\n",
       "      <th>0</th>\n",
       "      <td>Alice</td>\n",
       "      <td>Johnson</td>\n",
       "      <td>Math</td>\n",
       "      <td>95</td>\n",
       "    </tr>\n",
       "    <tr>\n",
       "      <th>1</th>\n",
       "      <td>Alice</td>\n",
       "      <td>Johnson</td>\n",
       "      <td>English</td>\n",
       "      <td>88</td>\n",
       "    </tr>\n",
       "    <tr>\n",
       "      <th>2</th>\n",
       "      <td>Alice</td>\n",
       "      <td>Johnson</td>\n",
       "      <td>History</td>\n",
       "      <td>90</td>\n",
       "    </tr>\n",
       "    <tr>\n",
       "      <th>3</th>\n",
       "      <td>Bob</td>\n",
       "      <td>Smith</td>\n",
       "      <td>Math</td>\n",
       "      <td>82</td>\n",
       "    </tr>\n",
       "    <tr>\n",
       "      <th>4</th>\n",
       "      <td>Bob</td>\n",
       "      <td>Smith</td>\n",
       "      <td>English</td>\n",
       "      <td>76</td>\n",
       "    </tr>\n",
       "  </tbody>\n",
       "</table>\n",
       "</div>"
      ],
      "text/plain": [
       "  first_name last_name  subject  grade\n",
       "0      Alice   Johnson     Math     95\n",
       "1      Alice   Johnson  English     88\n",
       "2      Alice   Johnson  History     90\n",
       "3        Bob     Smith     Math     82\n",
       "4        Bob     Smith  English     76"
      ]
     },
     "execution_count": 13,
     "metadata": {},
     "output_type": "execute_result"
    }
   ],
   "source": [
    "#use join queries to combine data from both tables into a single dataframe that include student's name, subject, and grade\n",
    "\n",
    "joinquery0 = ('''\n",
    "SELECT students.first_name, students.last_name, grades.subject, grades.grade\n",
    "FROM students\n",
    "JOIN grades ON students.student_id = grades.student_id\n",
    "''')\n",
    "\n",
    "combined_df = pd.read_sql_query(joinquery0,connection)\n",
    "\n",
    "combined_df.head()"
   ]
  },
  {
   "cell_type": "code",
   "execution_count": 14,
   "id": "2c31e872",
   "metadata": {},
   "outputs": [],
   "source": [
    "#plot average grades for each student\n",
    "\n",
    "joinquery1 = ('''\n",
    "SELECT students.first_name, students.last_name, AVG(grades.grade) AS average_grade\n",
    "FROM students\n",
    "JOIN grades ON students.student_id = grades.student_id\n",
    "GROUP BY students.student_id\n",
    "''')"
   ]
  },
  {
   "cell_type": "code",
   "execution_count": 15,
   "id": "c425a292",
   "metadata": {},
   "outputs": [
    {
     "data": {
      "image/png": "[encoded data removed]",
      "text/plain": [
       "<Figure size 1000x600 with 1 Axes>"
      ]
     },
     "metadata": {},
     "output_type": "display_data"
    }
   ],
   "source": [
    "students_avg_grade_df = pd.read_sql_query(joinquery1,connection)\n",
    "plt.figure(figsize=(10,6))\n",
    "plt.bar(students_avg_grade_df['first_name'], students_avg_grade_df['average_grade'], color='lightgreen')\n",
    "plt.xlabel('Student')\n",
    "plt.ylabel('Average Grade')\n",
    "plt.title('Average Grade of Each Student')\n",
    "plt.show()"
   ]
  },
  {
   "cell_type": "code",
   "execution_count": 16,
   "id": "e086c3b7",
   "metadata": {},
   "outputs": [],
   "source": [
    "#create bar chart showing average grade for each subject\n",
    "\n",
    "joinquery2 = ('''\n",
    "SELECT grades.subject, AVG(grades.grade) AS average_sub_grade\n",
    "FROM grades\n",
    "GROUP BY grades.subject\n",
    "''')"
   ]
  },
  {
   "cell_type": "code",
   "execution_count": 17,
   "id": "b3d30fe0",
   "metadata": {},
   "outputs": [
    {
     "data": {
      "image/png": "[encoded data removed]",
      "text/plain": [
       "<Figure size 1000x600 with 1 Axes>"
      ]
     },
     "metadata": {},
     "output_type": "display_data"
    }
   ],
   "source": [
    "subjects_avg_grade_df = pd.read_sql_query(joinquery2,connection)\n",
    "plt.figure(figsize=(10,6))\n",
    "plt.bar(subjects_avg_grade_df['subject'], subjects_avg_grade_df['average_sub_grade'], color='lightblue')\n",
    "plt.xlabel('Subject')\n",
    "plt.ylabel('Average Grade')\n",
    "plt.title('Average Grade of Each Subject')\n",
    "plt.show()"
   ]
  },
  {
   "cell_type": "code",
   "execution_count": 18,
   "id": "4ca0c2a5",
   "metadata": {},
   "outputs": [
    {
     "name": "stdout",
     "output_type": "stream",
     "text": [
      "Student with highest grade in each subject\n",
      "Math: Eve\n",
      "English: Carol\n",
      "History: Carol\n"
     ]
    }
   ],
   "source": [
    "#implement a query that finds the student with highest grade in each subject\n",
    "\n",
    "cursor.execute('''\n",
    "SELECT grades.subject, students.first_name, MAX(grades.grade)\n",
    "FROM students\n",
    "JOIN grades ON students.student_id = grades.student_id\n",
    "GROUP BY subject\n",
    "ORDER BY grade DESC\n",
    "''')\n",
    "\n",
    "sorted_grades = cursor.fetchall()\n",
    "\n",
    "print(\"Student with highest grade in each subject\")\n",
    "for row in sorted_grades:\n",
    "    print(f\"{row[0]}: {row[1]}\")"
   ]
  },
  {
   "cell_type": "code",
   "execution_count": 19,
   "id": "8d0c814b",
   "metadata": {},
   "outputs": [
    {
     "data": {
      "image/png": "[encoded data removed]",
      "text/plain": [
       "<Figure size 640x480 with 1 Axes>"
      ]
     },
     "metadata": {},
     "output_type": "display_data"
    }
   ],
   "source": [
    "#visualize results using a grouped bar graph \n",
    "#Source - https://matplotlib.org/stable/gallery/lines_bars_and_markers/barchart.html\n",
    "\n",
    "subjects = combined_df['subject'].unique()\n",
    "names = combined_df['first_name'].unique()\n",
    "\n",
    "x = np.arange(len(subjects))  # the label locations\n",
    "width = 0.15  # the width of the bars\n",
    "multiplier = 0\n",
    "\n",
    "fig, ax = plt.subplots(layout='constrained')\n",
    "\n",
    "for name in names:\n",
    "    current_grades = []\n",
    "    for subject in subjects:\n",
    "        grade = combined_df[(combined_df['first_name'] == name) & (combined_df['subject'] == subject)]['grade'].values[0]\n",
    "        current_grades.append(grade)\n",
    "    offset = width * multiplier\n",
    "    rects = ax.bar(offset + x, current_grades, width, label=name)\n",
    "    ax.bar_label(rects, padding=3)\n",
    "    \n",
    "    multiplier += 1\n",
    "\n",
    "ax.set_ylabel('Grade')\n",
    "ax.set_title('Grades Per Student by Subject')\n",
    "ax.set_xlabel('Subject')\n",
    "ax.set_xticks(x + width, subjects)\n",
    "ax.legend(loc='upper left', ncols=3)\n",
    "ax.set_ylim(0, 130)\n",
    "\n",
    "plt.show()"
   ]
  },
  {
   "cell_type": "code",
   "execution_count": null,
   "id": "04188f5f",
   "metadata": {},
   "outputs": [],
   "source": []
  }
 ],
 "metadata": {
  "kernelspec": {
   "display_name": "Python 3 (ipykernel)",
   "language": "python",
   "name": "python3"
  },
  "language_info": {
   "codemirror_mode": {
    "name": "ipython",
    "version": 3
   },
   "file_extension": ".py",
   "mimetype": "text/x-python",
   "name": "python",
   "nbconvert_exporter": "python",
   "pygments_lexer": "ipython3",
   "version": "3.11.4"
  }
 },
 "nbformat": 4,
 "nbformat_minor": 5
}
