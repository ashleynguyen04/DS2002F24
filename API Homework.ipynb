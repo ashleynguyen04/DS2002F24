{
 "cells": [
  {
   "cell_type": "code",
   "execution_count": null,
   "id": "ab628879",
   "metadata": {},
   "outputs": [],
   "source": [
    "#API HOMEWORK\n",
    "#Ashley Nguyen(rhw9tv)"
   ]
  },
  {
   "cell_type": "code",
   "execution_count": null,
   "id": "0fabda60",
   "metadata": {},
   "outputs": [],
   "source": [
    "#You have seen some examples of how to interact with JSON, CSV and make API Calls. Take\n",
    "#some time to explore the YAHOO Finance Guide at https://financeapi.net/ which shows you\n",
    "#endpoints for calling information. Your job is to code a Python Program that does the following\n",
    "#things:\n",
    "#1. Takes user input for a stock (using the Ticker Symbol): IE with the input() command\n",
    "#2. You will display back the user: Ticker Name, Full Name of the Stock, Current Market\n",
    "#Price, Target Mean Price, 52 week high and 52 week low. Also, output 5 of the current\n",
    "#trending stock.\n",
    "#3. Put that data in a DataFrame and then store that to a CSV file\n",
    "#4. Handle Errors (IE, the stock doesn’t exist and/or the API is not returning information\n",
    "\n",
    "\n",
    "#You will have to read the documentation and figure out which modules to call to get the data\n",
    "#that you need. You will need to make more than one call to this API. Use the examples in our\n",
    "#Zoom Session to guide you, but the documentation will be enough. Post your code to GitHub.\n",
    "#Bonus –\n",
    "#1. Use MatPlotLib to chart the historical price of a stock price’s highest value over the past\n",
    "#5 days."
   ]
  },
  {
   "cell_type": "code",
   "execution_count": null,
   "id": "5d742b64",
   "metadata": {},
   "outputs": [],
   "source": [
    "import json\n",
    "import pandas as pd\n",
    "import json\n",
    "import requests\n",
    "import matplotlib.pyplot as plt\n",
    "from datetime import datetime"
   ]
  },
  {
   "cell_type": "code",
   "execution_count": null,
   "id": "8a74f314",
   "metadata": {},
   "outputs": [],
   "source": [
    "stock=input()"
   ]
  },
  {
   "cell_type": "code",
   "execution_count": null,
   "id": "96facdfd",
   "metadata": {},
   "outputs": [],
   "source": [
    "print(\"The Stock we will research is: \" + stock)"
   ]
  },
  {
   "cell_type": "code",
   "execution_count": null,
   "id": "5a31d35a",
   "metadata": {},
   "outputs": [],
   "source": [
    "#Ticker Name, Full Name of the Stock, Current Market Price 52 week high and 52 week low\n",
    "apikey=\"MTvzbfm9BH1h0jAmacKkF8HcSSHQysWa7YnFCqbW\"\n",
    "url = \"https://yfapi.net/v6/finance/quote\"\n",
    "querystring = {\"symbols\":stock}\n",
    "headers = {\n",
    "    'x-api-key': apikey\n",
    "    }\n",
    "\n",
    "response = requests.request(\"GET\", url, headers=headers, params=querystring)\n",
    "\n",
    "stock_json = response.json()\n",
    "ticker_name = stock_json['quoteResponse']['result'][0][\"symbol\"]\n",
    "full_name = stock_json['quoteResponse']['result'][0][\"longName\"]\n",
    "current_price = stock_json['quoteResponse']['result'][0][\"regularMarketPrice\"]\n",
    "fiftytwo_high = stock_json['quoteResponse']['result'][0][\"regularMarketPrice\"]\n",
    "fiftytwo_low = stock_json['quoteResponse']['result'][0][\"fiftyTwoWeekLow\"]"
   ]
  },
  {
   "cell_type": "code",
   "execution_count": null,
   "id": "27cb3e34",
   "metadata": {},
   "outputs": [],
   "source": [
    "#Target Mean Price\n",
    "base_url = \"https://yfapi.net/v11/finance/quoteSummary/{symbol}\"\n",
    "url2 = base_url.format(symbol=stock)\n",
    "api_module = \"financialData\"\n",
    "querystring2 = {\"modules\":api_module}\n",
    "\n",
    "response2 = requests.request(\"GET\", url2, headers=headers, params=querystring2)\n",
    "\n",
    "stock_json2 = response2.json()\n",
    "target_mean_price = stock_json2['quoteSummary']['result'][0]['financialData'][\"targetMeanPrice\"][\"fmt\"]"
   ]
  },
  {
   "cell_type": "code",
   "execution_count": null,
   "id": "162e3058",
   "metadata": {},
   "outputs": [],
   "source": [
    "#5 Trending Stocks\n",
    "url3 = \"https://yfapi.net/v1/finance/trending/US\"\n",
    "\n",
    "response3 = requests.request(\"GET\", url3, headers=headers)\n",
    "\n",
    "stock_json3 = response3.json()\n",
    "trending_stocks = stock_json3['finance']['result'][0]['quotes']\n",
    "top_five_stocks = [i['symbol'] for i in trending_stocks[:5]]"
   ]
  },
  {
   "cell_type": "code",
   "execution_count": null,
   "id": "579a4251",
   "metadata": {},
   "outputs": [],
   "source": [
    "#Display for User\n",
    "df_values = { 'Ticker Name': ticker_name,\n",
    "            'Full Name': full_name,\n",
    "            'Current Market Price': current_price,\n",
    "            'Target Mean Price': target_mean_price,\n",
    "            '52 Week High': fiftytwo_high,\n",
    "            '52 Week Low': fiftytwo_low\n",
    "        }\n",
    "\n",
    "for key, value in df_values.items():\n",
    "            print(f\"{key}: {value}\")\n",
    "        \n",
    "print(\"Five current trending stock: \" + \", \".join(top_five_stocks))"
   ]
  },
  {
   "cell_type": "code",
   "execution_count": null,
   "id": "bb5f5400",
   "metadata": {},
   "outputs": [],
   "source": [
    "#Put that data in a DataFrame and then store that to a CSV file\n",
    "df = pd.DataFrame([df_values]) \n",
    "display(df)\n",
    "df.to_csv(f\"{stock}_stock_info.csv\")\n"
   ]
  },
  {
   "cell_type": "code",
   "execution_count": null,
   "id": "be2f19f0",
   "metadata": {},
   "outputs": [],
   "source": [
    "#Bonus (couldn't figure out)\n",
    "base_url3 =  \"https://yfapi.net/v8/finance/chart/{ticker}\"\n",
    "url4 = base_url3.format(ticker=stock)\n",
    "response4 = requests.request(\"GET\", url4, headers=headers)\n",
    "\n",
    "stock_json4 = response4.json()\n",
    "    \n",
    "timestamps = stock_json4['chart']['result'][0]['timestamp']\n",
    "highs = stock_json4['chart']['result'][0]['indicators']['quote'][0]['high']\n",
    "    \n",
    "dates = [datetime.utcfromtimestamp(ts).strftime('%Y-%m-%d') for ts in timestamps]\n",
    "    \n",
    "df = pd.DataFrame({'Date': dates, 'High': highs})\n",
    "    \n",
    "plt.figure(figsize=(10, 6))\n",
    "plt.plot(df['Date'], df['High'], marker='o', linestyle='-', color='blue', label='High Price')\n",
    "plt.title(f'Highest Stock Prices for {stock} Over the Past 5 Days')\n",
    "plt.xlabel('Date')\n",
    "plt.ylabel('High Price (USD)')\n",
    "plt.xticks(rotation=45)\n",
    "plt.grid(True)\n",
    "plt.legend()\n",
    "plt.tight_layout()\n",
    "plt.show()"
   ]
  },
  {
   "cell_type": "code",
   "execution_count": null,
   "id": "8b3b8d04",
   "metadata": {},
   "outputs": [],
   "source": []
  },
  {
   "cell_type": "code",
   "execution_count": null,
   "id": "33e7690b",
   "metadata": {},
   "outputs": [],
   "source": []
  },
  {
   "cell_type": "code",
   "execution_count": null,
   "id": "a2b9fdbf",
   "metadata": {},
   "outputs": [],
   "source": []
  }
 ],
 "metadata": {
  "kernelspec": {
   "display_name": "Python 3 (ipykernel)",
   "language": "python",
   "name": "python3"
  },
  "language_info": {
   "codemirror_mode": {
    "name": "ipython",
    "version": 3
   },
   "file_extension": ".py",
   "mimetype": "text/x-python",
   "name": "python",
   "nbconvert_exporter": "python",
   "pygments_lexer": "ipython3",
   "version": "3.11.4"
  }
 },
 "nbformat": 4,
 "nbformat_minor": 5
}
